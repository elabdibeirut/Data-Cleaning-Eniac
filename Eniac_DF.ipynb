{
  "nbformat": 4,
  "nbformat_minor": 0,
  "metadata": {
    "colab": {
      "provenance": [],
      "collapsed_sections": []
    },
    "kernelspec": {
      "name": "python3",
      "display_name": "Python 3"
    },
    "language_info": {
      "name": "python"
    }
  },
  "cells": [
    {
      "cell_type": "markdown",
      "source": [
        "# Searching for the category"
      ],
      "metadata": {
        "id": "bbaehNmt73fv"
      }
    },
    {
      "cell_type": "markdown",
      "source": [
        "For this code along we are only going to use the products DataFrame, however, if you believe there is information in other tables that can help to create categories, please, feel free to explore."
      ],
      "metadata": {
        "id": "JZNKAkEMOa3w"
      }
    },
    {
      "cell_type": "code",
      "source": [
        "import pandas as pd"
      ],
      "metadata": {
        "id": "ViZQTGKntHE9"
      },
      "execution_count": null,
      "outputs": []
    },
    {
      "cell_type": "code",
      "execution_count": null,
      "metadata": {
        "id": "7QfwQmvrrI1y"
      },
      "outputs": [],
      "source": [
        "# products_cl.csv\n",
        "url = \"https://drive.google.com/file/d/1s7Lai4NSlsYjGEPg1QSOUJobNYVsZBOJ/view?usp=sharing\" \n",
        "path = \"https://drive.google.com/uc?export=download&id=\"+url.split(\"/\")[-2]\n",
        "products_cl = pd.read_csv(path)"
      ]
    },
    {
      "cell_type": "code",
      "source": [
        "product_category_df = products_cl.copy()"
      ],
      "metadata": {
        "id": "V3YcuBBQlN0O"
      },
      "execution_count": null,
      "outputs": []
    },
    {
      "cell_type": "code",
      "source": [
        "product_category_df.head()"
      ],
      "metadata": {
        "id": "eEychOC1tIzh",
        "colab": {
          "base_uri": "https://localhost:8080/",
          "height": 206
        },
        "outputId": "a21a5816-adbe-4422-8dda-c5d6b0fab343"
      },
      "execution_count": null,
      "outputs": [
        {
          "output_type": "execute_result",
          "data": {
            "text/plain": [
              "       sku                                           name  \\\n",
              "0  RAI0007              Silver Rain Design mStand Support   \n",
              "1  APP0023              Apple Mac Keyboard Keypad Spanish   \n",
              "2  APP0025               Mighty Mouse Apple Mouse for Mac   \n",
              "3  APP0072  Apple Dock to USB Cable iPhone and iPod white   \n",
              "4  KIN0007    Mac Memory Kingston 2GB 667MHz DDR2 SO-DIMM   \n",
              "\n",
              "                                                desc  price  in_stock  \\\n",
              "0       Aluminum support compatible with all MacBook  59.99         1   \n",
              "1          USB ultrathin keyboard Apple Mac Spanish.  59.00         0   \n",
              "2                             mouse Apple USB cable.  59.00         0   \n",
              "3              IPhone dock and USB Cable Apple iPod.  25.00         0   \n",
              "4  2GB RAM Mac mini and iMac (2006/07) MacBook Pr...  34.99         1   \n",
              "\n",
              "       type  \n",
              "0      8696  \n",
              "1  13855401  \n",
              "2      1387  \n",
              "3      1230  \n",
              "4      1364  "
            ],
            "text/html": [
              "\n",
              "  <div id=\"df-f0e81dc8-fa87-401c-adb1-62480cc5a1a6\">\n",
              "    <div class=\"colab-df-container\">\n",
              "      <div>\n",
              "<style scoped>\n",
              "    .dataframe tbody tr th:only-of-type {\n",
              "        vertical-align: middle;\n",
              "    }\n",
              "\n",
              "    .dataframe tbody tr th {\n",
              "        vertical-align: top;\n",
              "    }\n",
              "\n",
              "    .dataframe thead th {\n",
              "        text-align: right;\n",
              "    }\n",
              "</style>\n",
              "<table border=\"1\" class=\"dataframe\">\n",
              "  <thead>\n",
              "    <tr style=\"text-align: right;\">\n",
              "      <th></th>\n",
              "      <th>sku</th>\n",
              "      <th>name</th>\n",
              "      <th>desc</th>\n",
              "      <th>price</th>\n",
              "      <th>in_stock</th>\n",
              "      <th>type</th>\n",
              "    </tr>\n",
              "  </thead>\n",
              "  <tbody>\n",
              "    <tr>\n",
              "      <th>0</th>\n",
              "      <td>RAI0007</td>\n",
              "      <td>Silver Rain Design mStand Support</td>\n",
              "      <td>Aluminum support compatible with all MacBook</td>\n",
              "      <td>59.99</td>\n",
              "      <td>1</td>\n",
              "      <td>8696</td>\n",
              "    </tr>\n",
              "    <tr>\n",
              "      <th>1</th>\n",
              "      <td>APP0023</td>\n",
              "      <td>Apple Mac Keyboard Keypad Spanish</td>\n",
              "      <td>USB ultrathin keyboard Apple Mac Spanish.</td>\n",
              "      <td>59.00</td>\n",
              "      <td>0</td>\n",
              "      <td>13855401</td>\n",
              "    </tr>\n",
              "    <tr>\n",
              "      <th>2</th>\n",
              "      <td>APP0025</td>\n",
              "      <td>Mighty Mouse Apple Mouse for Mac</td>\n",
              "      <td>mouse Apple USB cable.</td>\n",
              "      <td>59.00</td>\n",
              "      <td>0</td>\n",
              "      <td>1387</td>\n",
              "    </tr>\n",
              "    <tr>\n",
              "      <th>3</th>\n",
              "      <td>APP0072</td>\n",
              "      <td>Apple Dock to USB Cable iPhone and iPod white</td>\n",
              "      <td>IPhone dock and USB Cable Apple iPod.</td>\n",
              "      <td>25.00</td>\n",
              "      <td>0</td>\n",
              "      <td>1230</td>\n",
              "    </tr>\n",
              "    <tr>\n",
              "      <th>4</th>\n",
              "      <td>KIN0007</td>\n",
              "      <td>Mac Memory Kingston 2GB 667MHz DDR2 SO-DIMM</td>\n",
              "      <td>2GB RAM Mac mini and iMac (2006/07) MacBook Pr...</td>\n",
              "      <td>34.99</td>\n",
              "      <td>1</td>\n",
              "      <td>1364</td>\n",
              "    </tr>\n",
              "  </tbody>\n",
              "</table>\n",
              "</div>\n",
              "      <button class=\"colab-df-convert\" onclick=\"convertToInteractive('df-f0e81dc8-fa87-401c-adb1-62480cc5a1a6')\"\n",
              "              title=\"Convert this dataframe to an interactive table.\"\n",
              "              style=\"display:none;\">\n",
              "        \n",
              "  <svg xmlns=\"http://www.w3.org/2000/svg\" height=\"24px\"viewBox=\"0 0 24 24\"\n",
              "       width=\"24px\">\n",
              "    <path d=\"M0 0h24v24H0V0z\" fill=\"none\"/>\n",
              "    <path d=\"M18.56 5.44l.94 2.06.94-2.06 2.06-.94-2.06-.94-.94-2.06-.94 2.06-2.06.94zm-11 1L8.5 8.5l.94-2.06 2.06-.94-2.06-.94L8.5 2.5l-.94 2.06-2.06.94zm10 10l.94 2.06.94-2.06 2.06-.94-2.06-.94-.94-2.06-.94 2.06-2.06.94z\"/><path d=\"M17.41 7.96l-1.37-1.37c-.4-.4-.92-.59-1.43-.59-.52 0-1.04.2-1.43.59L10.3 9.45l-7.72 7.72c-.78.78-.78 2.05 0 2.83L4 21.41c.39.39.9.59 1.41.59.51 0 1.02-.2 1.41-.59l7.78-7.78 2.81-2.81c.8-.78.8-2.07 0-2.86zM5.41 20L4 18.59l7.72-7.72 1.47 1.35L5.41 20z\"/>\n",
              "  </svg>\n",
              "      </button>\n",
              "      \n",
              "  <style>\n",
              "    .colab-df-container {\n",
              "      display:flex;\n",
              "      flex-wrap:wrap;\n",
              "      gap: 12px;\n",
              "    }\n",
              "\n",
              "    .colab-df-convert {\n",
              "      background-color: #E8F0FE;\n",
              "      border: none;\n",
              "      border-radius: 50%;\n",
              "      cursor: pointer;\n",
              "      display: none;\n",
              "      fill: #1967D2;\n",
              "      height: 32px;\n",
              "      padding: 0 0 0 0;\n",
              "      width: 32px;\n",
              "    }\n",
              "\n",
              "    .colab-df-convert:hover {\n",
              "      background-color: #E2EBFA;\n",
              "      box-shadow: 0px 1px 2px rgba(60, 64, 67, 0.3), 0px 1px 3px 1px rgba(60, 64, 67, 0.15);\n",
              "      fill: #174EA6;\n",
              "    }\n",
              "\n",
              "    [theme=dark] .colab-df-convert {\n",
              "      background-color: #3B4455;\n",
              "      fill: #D2E3FC;\n",
              "    }\n",
              "\n",
              "    [theme=dark] .colab-df-convert:hover {\n",
              "      background-color: #434B5C;\n",
              "      box-shadow: 0px 1px 3px 1px rgba(0, 0, 0, 0.15);\n",
              "      filter: drop-shadow(0px 1px 2px rgba(0, 0, 0, 0.3));\n",
              "      fill: #FFFFFF;\n",
              "    }\n",
              "  </style>\n",
              "\n",
              "      <script>\n",
              "        const buttonEl =\n",
              "          document.querySelector('#df-f0e81dc8-fa87-401c-adb1-62480cc5a1a6 button.colab-df-convert');\n",
              "        buttonEl.style.display =\n",
              "          google.colab.kernel.accessAllowed ? 'block' : 'none';\n",
              "\n",
              "        async function convertToInteractive(key) {\n",
              "          const element = document.querySelector('#df-f0e81dc8-fa87-401c-adb1-62480cc5a1a6');\n",
              "          const dataTable =\n",
              "            await google.colab.kernel.invokeFunction('convertToInteractive',\n",
              "                                                     [key], {});\n",
              "          if (!dataTable) return;\n",
              "\n",
              "          const docLinkHtml = 'Like what you see? Visit the ' +\n",
              "            '<a target=\"_blank\" href=https://colab.research.google.com/notebooks/data_table.ipynb>data table notebook</a>'\n",
              "            + ' to learn more about interactive tables.';\n",
              "          element.innerHTML = '';\n",
              "          dataTable['output_type'] = 'display_data';\n",
              "          await google.colab.output.renderOutput(dataTable, element);\n",
              "          const docLink = document.createElement('div');\n",
              "          docLink.innerHTML = docLinkHtml;\n",
              "          element.appendChild(docLink);\n",
              "        }\n",
              "      </script>\n",
              "    </div>\n",
              "  </div>\n",
              "  "
            ]
          },
          "metadata": {},
          "execution_count": 5
        }
      ]
    },
    {
      "cell_type": "markdown",
      "source": [
        "## 1.&nbsp; Category creation by search term\n",
        "Let's start by creating a column `category`. For now we'll fill this column with a blank string `\"\"`."
      ],
      "metadata": {
        "id": "ll6nfKeqtUSb"
      }
    },
    {
      "cell_type": "code",
      "source": [
        "product_category_df[\"category\"] = \"\"\n",
        "product_category_df.head()"
      ],
      "metadata": {
        "id": "V0gB1AgftceZ",
        "colab": {
          "base_uri": "https://localhost:8080/",
          "height": 206
        },
        "outputId": "ddfbdc38-6dd0-4dbe-a2e5-815b06ae69fa"
      },
      "execution_count": null,
      "outputs": [
        {
          "output_type": "execute_result",
          "data": {
            "text/plain": [
              "       sku                                           name  \\\n",
              "0  RAI0007              Silver Rain Design mStand Support   \n",
              "1  APP0023              Apple Mac Keyboard Keypad Spanish   \n",
              "2  APP0025               Mighty Mouse Apple Mouse for Mac   \n",
              "3  APP0072  Apple Dock to USB Cable iPhone and iPod white   \n",
              "4  KIN0007    Mac Memory Kingston 2GB 667MHz DDR2 SO-DIMM   \n",
              "\n",
              "                                                desc  price  in_stock  \\\n",
              "0       Aluminum support compatible with all MacBook  59.99         1   \n",
              "1          USB ultrathin keyboard Apple Mac Spanish.  59.00         0   \n",
              "2                             mouse Apple USB cable.  59.00         0   \n",
              "3              IPhone dock and USB Cable Apple iPod.  25.00         0   \n",
              "4  2GB RAM Mac mini and iMac (2006/07) MacBook Pr...  34.99         1   \n",
              "\n",
              "       type category  \n",
              "0      8696           \n",
              "1  13855401           \n",
              "2      1387           \n",
              "3      1230           \n",
              "4      1364           "
            ],
            "text/html": [
              "\n",
              "  <div id=\"df-9f07fe84-def6-4448-b2c6-40215208a62f\">\n",
              "    <div class=\"colab-df-container\">\n",
              "      <div>\n",
              "<style scoped>\n",
              "    .dataframe tbody tr th:only-of-type {\n",
              "        vertical-align: middle;\n",
              "    }\n",
              "\n",
              "    .dataframe tbody tr th {\n",
              "        vertical-align: top;\n",
              "    }\n",
              "\n",
              "    .dataframe thead th {\n",
              "        text-align: right;\n",
              "    }\n",
              "</style>\n",
              "<table border=\"1\" class=\"dataframe\">\n",
              "  <thead>\n",
              "    <tr style=\"text-align: right;\">\n",
              "      <th></th>\n",
              "      <th>sku</th>\n",
              "      <th>name</th>\n",
              "      <th>desc</th>\n",
              "      <th>price</th>\n",
              "      <th>in_stock</th>\n",
              "      <th>type</th>\n",
              "      <th>category</th>\n",
              "    </tr>\n",
              "  </thead>\n",
              "  <tbody>\n",
              "    <tr>\n",
              "      <th>0</th>\n",
              "      <td>RAI0007</td>\n",
              "      <td>Silver Rain Design mStand Support</td>\n",
              "      <td>Aluminum support compatible with all MacBook</td>\n",
              "      <td>59.99</td>\n",
              "      <td>1</td>\n",
              "      <td>8696</td>\n",
              "      <td></td>\n",
              "    </tr>\n",
              "    <tr>\n",
              "      <th>1</th>\n",
              "      <td>APP0023</td>\n",
              "      <td>Apple Mac Keyboard Keypad Spanish</td>\n",
              "      <td>USB ultrathin keyboard Apple Mac Spanish.</td>\n",
              "      <td>59.00</td>\n",
              "      <td>0</td>\n",
              "      <td>13855401</td>\n",
              "      <td></td>\n",
              "    </tr>\n",
              "    <tr>\n",
              "      <th>2</th>\n",
              "      <td>APP0025</td>\n",
              "      <td>Mighty Mouse Apple Mouse for Mac</td>\n",
              "      <td>mouse Apple USB cable.</td>\n",
              "      <td>59.00</td>\n",
              "      <td>0</td>\n",
              "      <td>1387</td>\n",
              "      <td></td>\n",
              "    </tr>\n",
              "    <tr>\n",
              "      <th>3</th>\n",
              "      <td>APP0072</td>\n",
              "      <td>Apple Dock to USB Cable iPhone and iPod white</td>\n",
              "      <td>IPhone dock and USB Cable Apple iPod.</td>\n",
              "      <td>25.00</td>\n",
              "      <td>0</td>\n",
              "      <td>1230</td>\n",
              "      <td></td>\n",
              "    </tr>\n",
              "    <tr>\n",
              "      <th>4</th>\n",
              "      <td>KIN0007</td>\n",
              "      <td>Mac Memory Kingston 2GB 667MHz DDR2 SO-DIMM</td>\n",
              "      <td>2GB RAM Mac mini and iMac (2006/07) MacBook Pr...</td>\n",
              "      <td>34.99</td>\n",
              "      <td>1</td>\n",
              "      <td>1364</td>\n",
              "      <td></td>\n",
              "    </tr>\n",
              "  </tbody>\n",
              "</table>\n",
              "</div>\n",
              "      <button class=\"colab-df-convert\" onclick=\"convertToInteractive('df-9f07fe84-def6-4448-b2c6-40215208a62f')\"\n",
              "              title=\"Convert this dataframe to an interactive table.\"\n",
              "              style=\"display:none;\">\n",
              "        \n",
              "  <svg xmlns=\"http://www.w3.org/2000/svg\" height=\"24px\"viewBox=\"0 0 24 24\"\n",
              "       width=\"24px\">\n",
              "    <path d=\"M0 0h24v24H0V0z\" fill=\"none\"/>\n",
              "    <path d=\"M18.56 5.44l.94 2.06.94-2.06 2.06-.94-2.06-.94-.94-2.06-.94 2.06-2.06.94zm-11 1L8.5 8.5l.94-2.06 2.06-.94-2.06-.94L8.5 2.5l-.94 2.06-2.06.94zm10 10l.94 2.06.94-2.06 2.06-.94-2.06-.94-.94-2.06-.94 2.06-2.06.94z\"/><path d=\"M17.41 7.96l-1.37-1.37c-.4-.4-.92-.59-1.43-.59-.52 0-1.04.2-1.43.59L10.3 9.45l-7.72 7.72c-.78.78-.78 2.05 0 2.83L4 21.41c.39.39.9.59 1.41.59.51 0 1.02-.2 1.41-.59l7.78-7.78 2.81-2.81c.8-.78.8-2.07 0-2.86zM5.41 20L4 18.59l7.72-7.72 1.47 1.35L5.41 20z\"/>\n",
              "  </svg>\n",
              "      </button>\n",
              "      \n",
              "  <style>\n",
              "    .colab-df-container {\n",
              "      display:flex;\n",
              "      flex-wrap:wrap;\n",
              "      gap: 12px;\n",
              "    }\n",
              "\n",
              "    .colab-df-convert {\n",
              "      background-color: #E8F0FE;\n",
              "      border: none;\n",
              "      border-radius: 50%;\n",
              "      cursor: pointer;\n",
              "      display: none;\n",
              "      fill: #1967D2;\n",
              "      height: 32px;\n",
              "      padding: 0 0 0 0;\n",
              "      width: 32px;\n",
              "    }\n",
              "\n",
              "    .colab-df-convert:hover {\n",
              "      background-color: #E2EBFA;\n",
              "      box-shadow: 0px 1px 2px rgba(60, 64, 67, 0.3), 0px 1px 3px 1px rgba(60, 64, 67, 0.15);\n",
              "      fill: #174EA6;\n",
              "    }\n",
              "\n",
              "    [theme=dark] .colab-df-convert {\n",
              "      background-color: #3B4455;\n",
              "      fill: #D2E3FC;\n",
              "    }\n",
              "\n",
              "    [theme=dark] .colab-df-convert:hover {\n",
              "      background-color: #434B5C;\n",
              "      box-shadow: 0px 1px 3px 1px rgba(0, 0, 0, 0.15);\n",
              "      filter: drop-shadow(0px 1px 2px rgba(0, 0, 0, 0.3));\n",
              "      fill: #FFFFFF;\n",
              "    }\n",
              "  </style>\n",
              "\n",
              "      <script>\n",
              "        const buttonEl =\n",
              "          document.querySelector('#df-9f07fe84-def6-4448-b2c6-40215208a62f button.colab-df-convert');\n",
              "        buttonEl.style.display =\n",
              "          google.colab.kernel.accessAllowed ? 'block' : 'none';\n",
              "\n",
              "        async function convertToInteractive(key) {\n",
              "          const element = document.querySelector('#df-9f07fe84-def6-4448-b2c6-40215208a62f');\n",
              "          const dataTable =\n",
              "            await google.colab.kernel.invokeFunction('convertToInteractive',\n",
              "                                                     [key], {});\n",
              "          if (!dataTable) return;\n",
              "\n",
              "          const docLinkHtml = 'Like what you see? Visit the ' +\n",
              "            '<a target=\"_blank\" href=https://colab.research.google.com/notebooks/data_table.ipynb>data table notebook</a>'\n",
              "            + ' to learn more about interactive tables.';\n",
              "          element.innerHTML = '';\n",
              "          dataTable['output_type'] = 'display_data';\n",
              "          await google.colab.output.renderOutput(dataTable, element);\n",
              "          const docLink = document.createElement('div');\n",
              "          docLink.innerHTML = docLinkHtml;\n",
              "          element.appendChild(docLink);\n",
              "        }\n",
              "      </script>\n",
              "    </div>\n",
              "  </div>\n",
              "  "
            ]
          },
          "metadata": {},
          "execution_count": 6
        }
      ]
    },
    {
      "cell_type": "markdown",
      "source": [
        "We can find all the products with certain words in their `description` using `.loc[]` and `.str.contains()`. Here we'll look at all the items that have the word `keyboard` in their description."
      ],
      "metadata": {
        "id": "4V2cUNdoPK_4"
      }
    },
    {
      "cell_type": "code",
      "source": [
        "product_category_df.loc[product_category_df.desc.str.lower().str.contains(\"keyboard\"), :]"
      ],
      "metadata": {
        "id": "o1VQXWPFBqPd",
        "colab": {
          "base_uri": "https://localhost:8080/",
          "height": 424
        },
        "outputId": "414ac542-ad9e-4905-b9cd-92d54478e3a9"
      },
      "execution_count": null,
      "outputs": [
        {
          "output_type": "execute_result",
          "data": {
            "text/plain": [
              "            sku                                               name  \\\n",
              "1       APP0023                  Apple Mac Keyboard Keypad Spanish   \n",
              "15      MOS0021               Clearguard Moshi MacBook Pro and Air   \n",
              "24      APP0277         Apple Wireless Keyboard Keyboard (OEM) Mac   \n",
              "64      HGD0012            Henge Docks Click keyboard support iMac   \n",
              "365     LOG0084  Logitech Ultrathin Keyboard Cover Keyboard Cov...   \n",
              "...         ...                                                ...   \n",
              "9720    PAC2508  Replacement Magic Wireless Keyboard by Matias ...   \n",
              "9751    MTF0008               Mistify Clean Screens Natural 500ml.   \n",
              "9796  ZAG0026-A  Open - Zagg Rugged Keyboard Folio iPad Messeng...   \n",
              "9932    APP1472         Apple Magic Keyboard English International   \n",
              "9945  TWS0106-A  Open - Twelve South Bridge Magic Keyboard for ...   \n",
              "\n",
              "                                                   desc   price  in_stock  \\\n",
              "1             USB ultrathin keyboard Apple Mac Spanish.   59.00         0   \n",
              "15    Keyboard Protector MacBook Pro 13-inch Retina ...   24.95         0   \n",
              "24    Ultrathin keyboard Apple Bluetooth Spanish (un...   79.00         0   \n",
              "64    Base to hold the Apple Magic TrackPad and Wire...   29.00         0   \n",
              "365   Ultrathin cover and cover with Bluetooth keybo...   89.99         0   \n",
              "...                                                 ...     ...       ...   \n",
              "9720  Keyboard replacement service at the time of pu...  119.99         1   \n",
              "9751              Spray cleaning screens and keyboards.   14.99         1   \n",
              "9796  Case reconditioned keyboard and adjustable pos...   99.99         0   \n",
              "9932  English keyboard Mac and Apple iPad Ultrathin ...  119.00         1   \n",
              "9945  Light reconditioned support to hold the Keyboa...   48.00         0   \n",
              "\n",
              "          type category  \n",
              "1     13855401           \n",
              "15    13835403           \n",
              "24    13855401           \n",
              "64        8696           \n",
              "365   12575403           \n",
              "...        ...      ...  \n",
              "9720  13855401           \n",
              "9751  12085400           \n",
              "9796  12575403           \n",
              "9932  13855401           \n",
              "9945      8696           \n",
              "\n",
              "[89 rows x 7 columns]"
            ],
            "text/html": [
              "\n",
              "  <div id=\"df-a1032229-a77e-4f9f-a1c0-f6a9bf5aa68b\">\n",
              "    <div class=\"colab-df-container\">\n",
              "      <div>\n",
              "<style scoped>\n",
              "    .dataframe tbody tr th:only-of-type {\n",
              "        vertical-align: middle;\n",
              "    }\n",
              "\n",
              "    .dataframe tbody tr th {\n",
              "        vertical-align: top;\n",
              "    }\n",
              "\n",
              "    .dataframe thead th {\n",
              "        text-align: right;\n",
              "    }\n",
              "</style>\n",
              "<table border=\"1\" class=\"dataframe\">\n",
              "  <thead>\n",
              "    <tr style=\"text-align: right;\">\n",
              "      <th></th>\n",
              "      <th>sku</th>\n",
              "      <th>name</th>\n",
              "      <th>desc</th>\n",
              "      <th>price</th>\n",
              "      <th>in_stock</th>\n",
              "      <th>type</th>\n",
              "      <th>category</th>\n",
              "    </tr>\n",
              "  </thead>\n",
              "  <tbody>\n",
              "    <tr>\n",
              "      <th>1</th>\n",
              "      <td>APP0023</td>\n",
              "      <td>Apple Mac Keyboard Keypad Spanish</td>\n",
              "      <td>USB ultrathin keyboard Apple Mac Spanish.</td>\n",
              "      <td>59.00</td>\n",
              "      <td>0</td>\n",
              "      <td>13855401</td>\n",
              "      <td></td>\n",
              "    </tr>\n",
              "    <tr>\n",
              "      <th>15</th>\n",
              "      <td>MOS0021</td>\n",
              "      <td>Clearguard Moshi MacBook Pro and Air</td>\n",
              "      <td>Keyboard Protector MacBook Pro 13-inch Retina ...</td>\n",
              "      <td>24.95</td>\n",
              "      <td>0</td>\n",
              "      <td>13835403</td>\n",
              "      <td></td>\n",
              "    </tr>\n",
              "    <tr>\n",
              "      <th>24</th>\n",
              "      <td>APP0277</td>\n",
              "      <td>Apple Wireless Keyboard Keyboard (OEM) Mac</td>\n",
              "      <td>Ultrathin keyboard Apple Bluetooth Spanish (un...</td>\n",
              "      <td>79.00</td>\n",
              "      <td>0</td>\n",
              "      <td>13855401</td>\n",
              "      <td></td>\n",
              "    </tr>\n",
              "    <tr>\n",
              "      <th>64</th>\n",
              "      <td>HGD0012</td>\n",
              "      <td>Henge Docks Click keyboard support iMac</td>\n",
              "      <td>Base to hold the Apple Magic TrackPad and Wire...</td>\n",
              "      <td>29.00</td>\n",
              "      <td>0</td>\n",
              "      <td>8696</td>\n",
              "      <td></td>\n",
              "    </tr>\n",
              "    <tr>\n",
              "      <th>365</th>\n",
              "      <td>LOG0084</td>\n",
              "      <td>Logitech Ultrathin Keyboard Cover Keyboard Cov...</td>\n",
              "      <td>Ultrathin cover and cover with Bluetooth keybo...</td>\n",
              "      <td>89.99</td>\n",
              "      <td>0</td>\n",
              "      <td>12575403</td>\n",
              "      <td></td>\n",
              "    </tr>\n",
              "    <tr>\n",
              "      <th>...</th>\n",
              "      <td>...</td>\n",
              "      <td>...</td>\n",
              "      <td>...</td>\n",
              "      <td>...</td>\n",
              "      <td>...</td>\n",
              "      <td>...</td>\n",
              "      <td>...</td>\n",
              "    </tr>\n",
              "    <tr>\n",
              "      <th>9720</th>\n",
              "      <td>PAC2508</td>\n",
              "      <td>Replacement Magic Wireless Keyboard by Matias ...</td>\n",
              "      <td>Keyboard replacement service at the time of pu...</td>\n",
              "      <td>119.99</td>\n",
              "      <td>1</td>\n",
              "      <td>13855401</td>\n",
              "      <td></td>\n",
              "    </tr>\n",
              "    <tr>\n",
              "      <th>9751</th>\n",
              "      <td>MTF0008</td>\n",
              "      <td>Mistify Clean Screens Natural 500ml.</td>\n",
              "      <td>Spray cleaning screens and keyboards.</td>\n",
              "      <td>14.99</td>\n",
              "      <td>1</td>\n",
              "      <td>12085400</td>\n",
              "      <td></td>\n",
              "    </tr>\n",
              "    <tr>\n",
              "      <th>9796</th>\n",
              "      <td>ZAG0026-A</td>\n",
              "      <td>Open - Zagg Rugged Keyboard Folio iPad Messeng...</td>\n",
              "      <td>Case reconditioned keyboard and adjustable pos...</td>\n",
              "      <td>99.99</td>\n",
              "      <td>0</td>\n",
              "      <td>12575403</td>\n",
              "      <td></td>\n",
              "    </tr>\n",
              "    <tr>\n",
              "      <th>9932</th>\n",
              "      <td>APP1472</td>\n",
              "      <td>Apple Magic Keyboard English International</td>\n",
              "      <td>English keyboard Mac and Apple iPad Ultrathin ...</td>\n",
              "      <td>119.00</td>\n",
              "      <td>1</td>\n",
              "      <td>13855401</td>\n",
              "      <td></td>\n",
              "    </tr>\n",
              "    <tr>\n",
              "      <th>9945</th>\n",
              "      <td>TWS0106-A</td>\n",
              "      <td>Open - Twelve South Bridge Magic Keyboard for ...</td>\n",
              "      <td>Light reconditioned support to hold the Keyboa...</td>\n",
              "      <td>48.00</td>\n",
              "      <td>0</td>\n",
              "      <td>8696</td>\n",
              "      <td></td>\n",
              "    </tr>\n",
              "  </tbody>\n",
              "</table>\n",
              "<p>89 rows × 7 columns</p>\n",
              "</div>\n",
              "      <button class=\"colab-df-convert\" onclick=\"convertToInteractive('df-a1032229-a77e-4f9f-a1c0-f6a9bf5aa68b')\"\n",
              "              title=\"Convert this dataframe to an interactive table.\"\n",
              "              style=\"display:none;\">\n",
              "        \n",
              "  <svg xmlns=\"http://www.w3.org/2000/svg\" height=\"24px\"viewBox=\"0 0 24 24\"\n",
              "       width=\"24px\">\n",
              "    <path d=\"M0 0h24v24H0V0z\" fill=\"none\"/>\n",
              "    <path d=\"M18.56 5.44l.94 2.06.94-2.06 2.06-.94-2.06-.94-.94-2.06-.94 2.06-2.06.94zm-11 1L8.5 8.5l.94-2.06 2.06-.94-2.06-.94L8.5 2.5l-.94 2.06-2.06.94zm10 10l.94 2.06.94-2.06 2.06-.94-2.06-.94-.94-2.06-.94 2.06-2.06.94z\"/><path d=\"M17.41 7.96l-1.37-1.37c-.4-.4-.92-.59-1.43-.59-.52 0-1.04.2-1.43.59L10.3 9.45l-7.72 7.72c-.78.78-.78 2.05 0 2.83L4 21.41c.39.39.9.59 1.41.59.51 0 1.02-.2 1.41-.59l7.78-7.78 2.81-2.81c.8-.78.8-2.07 0-2.86zM5.41 20L4 18.59l7.72-7.72 1.47 1.35L5.41 20z\"/>\n",
              "  </svg>\n",
              "      </button>\n",
              "      \n",
              "  <style>\n",
              "    .colab-df-container {\n",
              "      display:flex;\n",
              "      flex-wrap:wrap;\n",
              "      gap: 12px;\n",
              "    }\n",
              "\n",
              "    .colab-df-convert {\n",
              "      background-color: #E8F0FE;\n",
              "      border: none;\n",
              "      border-radius: 50%;\n",
              "      cursor: pointer;\n",
              "      display: none;\n",
              "      fill: #1967D2;\n",
              "      height: 32px;\n",
              "      padding: 0 0 0 0;\n",
              "      width: 32px;\n",
              "    }\n",
              "\n",
              "    .colab-df-convert:hover {\n",
              "      background-color: #E2EBFA;\n",
              "      box-shadow: 0px 1px 2px rgba(60, 64, 67, 0.3), 0px 1px 3px 1px rgba(60, 64, 67, 0.15);\n",
              "      fill: #174EA6;\n",
              "    }\n",
              "\n",
              "    [theme=dark] .colab-df-convert {\n",
              "      background-color: #3B4455;\n",
              "      fill: #D2E3FC;\n",
              "    }\n",
              "\n",
              "    [theme=dark] .colab-df-convert:hover {\n",
              "      background-color: #434B5C;\n",
              "      box-shadow: 0px 1px 3px 1px rgba(0, 0, 0, 0.15);\n",
              "      filter: drop-shadow(0px 1px 2px rgba(0, 0, 0, 0.3));\n",
              "      fill: #FFFFFF;\n",
              "    }\n",
              "  </style>\n",
              "\n",
              "      <script>\n",
              "        const buttonEl =\n",
              "          document.querySelector('#df-a1032229-a77e-4f9f-a1c0-f6a9bf5aa68b button.colab-df-convert');\n",
              "        buttonEl.style.display =\n",
              "          google.colab.kernel.accessAllowed ? 'block' : 'none';\n",
              "\n",
              "        async function convertToInteractive(key) {\n",
              "          const element = document.querySelector('#df-a1032229-a77e-4f9f-a1c0-f6a9bf5aa68b');\n",
              "          const dataTable =\n",
              "            await google.colab.kernel.invokeFunction('convertToInteractive',\n",
              "                                                     [key], {});\n",
              "          if (!dataTable) return;\n",
              "\n",
              "          const docLinkHtml = 'Like what you see? Visit the ' +\n",
              "            '<a target=\"_blank\" href=https://colab.research.google.com/notebooks/data_table.ipynb>data table notebook</a>'\n",
              "            + ' to learn more about interactive tables.';\n",
              "          element.innerHTML = '';\n",
              "          dataTable['output_type'] = 'display_data';\n",
              "          await google.colab.output.renderOutput(dataTable, element);\n",
              "          const docLink = document.createElement('div');\n",
              "          docLink.innerHTML = docLinkHtml;\n",
              "          element.appendChild(docLink);\n",
              "        }\n",
              "      </script>\n",
              "    </div>\n",
              "  </div>\n",
              "  "
            ]
          },
          "metadata": {},
          "execution_count": 7
        }
      ]
    },
    {
      "cell_type": "markdown",
      "source": [
        "Next we change the value in the category column to `keyboard` for all of these keyboard products. "
      ],
      "metadata": {
        "id": "hdNa39muPhvh"
      }
    },
    {
      "cell_type": "code",
      "source": [
        "product_category_df.loc[product_category_df.desc.str.lower().str.contains(\"keyboard\"), \"category\"] = \"keyboard\""
      ],
      "metadata": {
        "id": "WTbebBR63Khc"
      },
      "execution_count": null,
      "outputs": []
    },
    {
      "cell_type": "markdown",
      "source": [
        "Let's take a look at the affect that had on the `category` column."
      ],
      "metadata": {
        "id": "fcYoD6dbPzK9"
      }
    },
    {
      "cell_type": "code",
      "source": [
        "product_category_df.category.value_counts()"
      ],
      "metadata": {
        "id": "YhHJzCs83Mgp",
        "colab": {
          "base_uri": "https://localhost:8080/"
        },
        "outputId": "54ca0413-071e-4225-e033-9417b27f91ef"
      },
      "execution_count": null,
      "outputs": [
        {
          "output_type": "execute_result",
          "data": {
            "text/plain": [
              "            9903\n",
              "keyboard      89\n",
              "Name: category, dtype: int64"
            ]
          },
          "metadata": {},
          "execution_count": 9
        }
      ]
    },
    {
      "cell_type": "markdown",
      "source": [
        "## 2.&nbsp; Category creation using regex\n",
        "We can also use a products `name` to select products for our categories."
      ],
      "metadata": {
        "id": "zKmy1xNjtcOr"
      }
    },
    {
      "cell_type": "code",
      "source": [
        "product_category_df.loc[product_category_df.name.str.lower().str.contains(\"apple iphone\"), :]"
      ],
      "metadata": {
        "id": "MApPzEVM3N6g",
        "colab": {
          "base_uri": "https://localhost:8080/",
          "height": 424
        },
        "outputId": "cc0d9ee5-c6fb-4117-9404-53215b11b085"
      },
      "execution_count": null,
      "outputs": [
        {
          "output_type": "execute_result",
          "data": {
            "text/plain": [
              "            sku                                               name  \\\n",
              "35      APP0308  AV Cable Adapter Apple iPhone iPad and iPod white   \n",
              "214     REP0100               Color change to White Apple iPhone 4   \n",
              "215     REP0052               Color change to White Apple iPhone 4   \n",
              "579     APP0675                    Apple iPhone 5S 32GB Space Gray   \n",
              "956     APP0823                         Apple iPhone 6 16GB Silver   \n",
              "...         ...                                                ...   \n",
              "9790    AP20455               Like new - Apple iPhone 8 256GB Gold   \n",
              "9794  APP2482-A              Open - Apple iPhone 8 Plus 256GB Gold   \n",
              "9929  APP2477-A         Open - Apple iPhone 8 Plus 64GB Space Gray   \n",
              "9958    AP20467  Like new - Apple iPhone Silicone Case Cover 7 ...   \n",
              "9969    AP20468       Like new - Apple iPhone Black Lightning Dock   \n",
              "\n",
              "                                                   desc    price  in_stock  \\\n",
              "35               IPhone iPad iPod adapter and AV cable.    45.00         0   \n",
              "214                   It is including parts and labor..    94.21         0   \n",
              "215                   It is including parts and labor..    94.21         0   \n",
              "579               New Free iPhone 5S 32GB (ME435Y / A).   559.00         0   \n",
              "956               New iPhone 6 16GB Free (MG482QL / A).   639.00         0   \n",
              "...                                                 ...      ...       ...   \n",
              "9790  Apple iPhone 8 reconditioned 256GB in Gold rea...   979.00         0   \n",
              "9794    Refurbished Apple iPhone 8 Plus 256GB Free Gold  1089.00         0   \n",
              "9929                Apple iPhone 8 Plus 64GB Space Gray   919.00         0   \n",
              "9958  Reconditioned silicone sleeve microfiber Apple...    45.00         0   \n",
              "9969  Support base and refitted with dock connector ...    59.00         0   \n",
              "\n",
              "           type category  \n",
              "35         1230           \n",
              "214    1,44E+11           \n",
              "215    1,44E+11           \n",
              "579         NaN           \n",
              "956         NaN           \n",
              "...         ...      ...  \n",
              "9790  113291716           \n",
              "9794  113281716           \n",
              "9929  113281716           \n",
              "9958   11865403           \n",
              "9969   13615399           \n",
              "\n",
              "[424 rows x 7 columns]"
            ],
            "text/html": [
              "\n",
              "  <div id=\"df-0f2d97b0-c427-4e6f-9e80-d9613f0ecb50\">\n",
              "    <div class=\"colab-df-container\">\n",
              "      <div>\n",
              "<style scoped>\n",
              "    .dataframe tbody tr th:only-of-type {\n",
              "        vertical-align: middle;\n",
              "    }\n",
              "\n",
              "    .dataframe tbody tr th {\n",
              "        vertical-align: top;\n",
              "    }\n",
              "\n",
              "    .dataframe thead th {\n",
              "        text-align: right;\n",
              "    }\n",
              "</style>\n",
              "<table border=\"1\" class=\"dataframe\">\n",
              "  <thead>\n",
              "    <tr style=\"text-align: right;\">\n",
              "      <th></th>\n",
              "      <th>sku</th>\n",
              "      <th>name</th>\n",
              "      <th>desc</th>\n",
              "      <th>price</th>\n",
              "      <th>in_stock</th>\n",
              "      <th>type</th>\n",
              "      <th>category</th>\n",
              "    </tr>\n",
              "  </thead>\n",
              "  <tbody>\n",
              "    <tr>\n",
              "      <th>35</th>\n",
              "      <td>APP0308</td>\n",
              "      <td>AV Cable Adapter Apple iPhone iPad and iPod white</td>\n",
              "      <td>IPhone iPad iPod adapter and AV cable.</td>\n",
              "      <td>45.00</td>\n",
              "      <td>0</td>\n",
              "      <td>1230</td>\n",
              "      <td></td>\n",
              "    </tr>\n",
              "    <tr>\n",
              "      <th>214</th>\n",
              "      <td>REP0100</td>\n",
              "      <td>Color change to White Apple iPhone 4</td>\n",
              "      <td>It is including parts and labor..</td>\n",
              "      <td>94.21</td>\n",
              "      <td>0</td>\n",
              "      <td>1,44E+11</td>\n",
              "      <td></td>\n",
              "    </tr>\n",
              "    <tr>\n",
              "      <th>215</th>\n",
              "      <td>REP0052</td>\n",
              "      <td>Color change to White Apple iPhone 4</td>\n",
              "      <td>It is including parts and labor..</td>\n",
              "      <td>94.21</td>\n",
              "      <td>0</td>\n",
              "      <td>1,44E+11</td>\n",
              "      <td></td>\n",
              "    </tr>\n",
              "    <tr>\n",
              "      <th>579</th>\n",
              "      <td>APP0675</td>\n",
              "      <td>Apple iPhone 5S 32GB Space Gray</td>\n",
              "      <td>New Free iPhone 5S 32GB (ME435Y / A).</td>\n",
              "      <td>559.00</td>\n",
              "      <td>0</td>\n",
              "      <td>NaN</td>\n",
              "      <td></td>\n",
              "    </tr>\n",
              "    <tr>\n",
              "      <th>956</th>\n",
              "      <td>APP0823</td>\n",
              "      <td>Apple iPhone 6 16GB Silver</td>\n",
              "      <td>New iPhone 6 16GB Free (MG482QL / A).</td>\n",
              "      <td>639.00</td>\n",
              "      <td>0</td>\n",
              "      <td>NaN</td>\n",
              "      <td></td>\n",
              "    </tr>\n",
              "    <tr>\n",
              "      <th>...</th>\n",
              "      <td>...</td>\n",
              "      <td>...</td>\n",
              "      <td>...</td>\n",
              "      <td>...</td>\n",
              "      <td>...</td>\n",
              "      <td>...</td>\n",
              "      <td>...</td>\n",
              "    </tr>\n",
              "    <tr>\n",
              "      <th>9790</th>\n",
              "      <td>AP20455</td>\n",
              "      <td>Like new - Apple iPhone 8 256GB Gold</td>\n",
              "      <td>Apple iPhone 8 reconditioned 256GB in Gold rea...</td>\n",
              "      <td>979.00</td>\n",
              "      <td>0</td>\n",
              "      <td>113291716</td>\n",
              "      <td></td>\n",
              "    </tr>\n",
              "    <tr>\n",
              "      <th>9794</th>\n",
              "      <td>APP2482-A</td>\n",
              "      <td>Open - Apple iPhone 8 Plus 256GB Gold</td>\n",
              "      <td>Refurbished Apple iPhone 8 Plus 256GB Free Gold</td>\n",
              "      <td>1089.00</td>\n",
              "      <td>0</td>\n",
              "      <td>113281716</td>\n",
              "      <td></td>\n",
              "    </tr>\n",
              "    <tr>\n",
              "      <th>9929</th>\n",
              "      <td>APP2477-A</td>\n",
              "      <td>Open - Apple iPhone 8 Plus 64GB Space Gray</td>\n",
              "      <td>Apple iPhone 8 Plus 64GB Space Gray</td>\n",
              "      <td>919.00</td>\n",
              "      <td>0</td>\n",
              "      <td>113281716</td>\n",
              "      <td></td>\n",
              "    </tr>\n",
              "    <tr>\n",
              "      <th>9958</th>\n",
              "      <td>AP20467</td>\n",
              "      <td>Like new - Apple iPhone Silicone Case Cover 7 ...</td>\n",
              "      <td>Reconditioned silicone sleeve microfiber Apple...</td>\n",
              "      <td>45.00</td>\n",
              "      <td>0</td>\n",
              "      <td>11865403</td>\n",
              "      <td></td>\n",
              "    </tr>\n",
              "    <tr>\n",
              "      <th>9969</th>\n",
              "      <td>AP20468</td>\n",
              "      <td>Like new - Apple iPhone Black Lightning Dock</td>\n",
              "      <td>Support base and refitted with dock connector ...</td>\n",
              "      <td>59.00</td>\n",
              "      <td>0</td>\n",
              "      <td>13615399</td>\n",
              "      <td></td>\n",
              "    </tr>\n",
              "  </tbody>\n",
              "</table>\n",
              "<p>424 rows × 7 columns</p>\n",
              "</div>\n",
              "      <button class=\"colab-df-convert\" onclick=\"convertToInteractive('df-0f2d97b0-c427-4e6f-9e80-d9613f0ecb50')\"\n",
              "              title=\"Convert this dataframe to an interactive table.\"\n",
              "              style=\"display:none;\">\n",
              "        \n",
              "  <svg xmlns=\"http://www.w3.org/2000/svg\" height=\"24px\"viewBox=\"0 0 24 24\"\n",
              "       width=\"24px\">\n",
              "    <path d=\"M0 0h24v24H0V0z\" fill=\"none\"/>\n",
              "    <path d=\"M18.56 5.44l.94 2.06.94-2.06 2.06-.94-2.06-.94-.94-2.06-.94 2.06-2.06.94zm-11 1L8.5 8.5l.94-2.06 2.06-.94-2.06-.94L8.5 2.5l-.94 2.06-2.06.94zm10 10l.94 2.06.94-2.06 2.06-.94-2.06-.94-.94-2.06-.94 2.06-2.06.94z\"/><path d=\"M17.41 7.96l-1.37-1.37c-.4-.4-.92-.59-1.43-.59-.52 0-1.04.2-1.43.59L10.3 9.45l-7.72 7.72c-.78.78-.78 2.05 0 2.83L4 21.41c.39.39.9.59 1.41.59.51 0 1.02-.2 1.41-.59l7.78-7.78 2.81-2.81c.8-.78.8-2.07 0-2.86zM5.41 20L4 18.59l7.72-7.72 1.47 1.35L5.41 20z\"/>\n",
              "  </svg>\n",
              "      </button>\n",
              "      \n",
              "  <style>\n",
              "    .colab-df-container {\n",
              "      display:flex;\n",
              "      flex-wrap:wrap;\n",
              "      gap: 12px;\n",
              "    }\n",
              "\n",
              "    .colab-df-convert {\n",
              "      background-color: #E8F0FE;\n",
              "      border: none;\n",
              "      border-radius: 50%;\n",
              "      cursor: pointer;\n",
              "      display: none;\n",
              "      fill: #1967D2;\n",
              "      height: 32px;\n",
              "      padding: 0 0 0 0;\n",
              "      width: 32px;\n",
              "    }\n",
              "\n",
              "    .colab-df-convert:hover {\n",
              "      background-color: #E2EBFA;\n",
              "      box-shadow: 0px 1px 2px rgba(60, 64, 67, 0.3), 0px 1px 3px 1px rgba(60, 64, 67, 0.15);\n",
              "      fill: #174EA6;\n",
              "    }\n",
              "\n",
              "    [theme=dark] .colab-df-convert {\n",
              "      background-color: #3B4455;\n",
              "      fill: #D2E3FC;\n",
              "    }\n",
              "\n",
              "    [theme=dark] .colab-df-convert:hover {\n",
              "      background-color: #434B5C;\n",
              "      box-shadow: 0px 1px 3px 1px rgba(0, 0, 0, 0.15);\n",
              "      filter: drop-shadow(0px 1px 2px rgba(0, 0, 0, 0.3));\n",
              "      fill: #FFFFFF;\n",
              "    }\n",
              "  </style>\n",
              "\n",
              "      <script>\n",
              "        const buttonEl =\n",
              "          document.querySelector('#df-0f2d97b0-c427-4e6f-9e80-d9613f0ecb50 button.colab-df-convert');\n",
              "        buttonEl.style.display =\n",
              "          google.colab.kernel.accessAllowed ? 'block' : 'none';\n",
              "\n",
              "        async function convertToInteractive(key) {\n",
              "          const element = document.querySelector('#df-0f2d97b0-c427-4e6f-9e80-d9613f0ecb50');\n",
              "          const dataTable =\n",
              "            await google.colab.kernel.invokeFunction('convertToInteractive',\n",
              "                                                     [key], {});\n",
              "          if (!dataTable) return;\n",
              "\n",
              "          const docLinkHtml = 'Like what you see? Visit the ' +\n",
              "            '<a target=\"_blank\" href=https://colab.research.google.com/notebooks/data_table.ipynb>data table notebook</a>'\n",
              "            + ' to learn more about interactive tables.';\n",
              "          element.innerHTML = '';\n",
              "          dataTable['output_type'] = 'display_data';\n",
              "          await google.colab.output.renderOutput(dataTable, element);\n",
              "          const docLink = document.createElement('div');\n",
              "          docLink.innerHTML = docLinkHtml;\n",
              "          element.appendChild(docLink);\n",
              "        }\n",
              "      </script>\n",
              "    </div>\n",
              "  </div>\n",
              "  "
            ]
          },
          "metadata": {},
          "execution_count": 10
        }
      ]
    },
    {
      "cell_type": "markdown",
      "source": [
        "Looks like we get a lot of accessories included in this search. We can refine this using a little regex. Here we will add `.{0,7}` at the beginning of the search: this means we will find all `apple iphone`'s that have 7 or less characters preceding the term \"apple iphone\" - if there's 8 characters preceding the search term, it won't be found. This should help refine our search by using the nomenclature of the DataFrame to our advantage.\n",
        "\n",
        "If you feel unsure about regex, please use [regex101](https://regex101.com/). It's really useful for checking your code, and parts of other peoples code that you're unsure about."
      ],
      "metadata": {
        "id": "aai7zoKNQSxX"
      }
    },
    {
      "cell_type": "code",
      "source": [
        "product_category_df.loc[product_category_df.name.str.lower().str.contains(\"^.{0,7}apple iphone\"), :]"
      ],
      "metadata": {
        "id": "mxVST68uCjp4",
        "colab": {
          "base_uri": "https://localhost:8080/",
          "height": 424
        },
        "outputId": "385a70cc-5e92-4272-bc6e-78b1fc097a59"
      },
      "execution_count": null,
      "outputs": [
        {
          "output_type": "execute_result",
          "data": {
            "text/plain": [
              "            sku                                        name  \\\n",
              "579     APP0675             Apple iPhone 5S 32GB Space Gray   \n",
              "956     APP0823                  Apple iPhone 6 16GB Silver   \n",
              "961     APP0829             Apple iPhone 6 Plus 16GB Silver   \n",
              "962     APP0822              Apple iPhone 6 16GB Space Gray   \n",
              "963     APP0825              Apple iPhone 6 64GB Space Gray   \n",
              "...         ...                                         ...   \n",
              "9585  APP1634-A       Open - Apple iPhone 7 Plus 32GB Black   \n",
              "9587  APP2540-A    Open - Apple iPhone Leather Folio X Baya   \n",
              "9714  APP2562-A  Open - Apple iPhone Leather Case Cover Red   \n",
              "9794  APP2482-A       Open - Apple iPhone 8 Plus 256GB Gold   \n",
              "9929  APP2477-A  Open - Apple iPhone 8 Plus 64GB Space Gray   \n",
              "\n",
              "                                                   desc   price  in_stock  \\\n",
              "579               New Free iPhone 5S 32GB (ME435Y / A).   559.0         0   \n",
              "956               New iPhone 6 16GB Free (MG482QL / A).   639.0         0   \n",
              "961           New iPhone 6 Plus 16G Free (MGA92QL / A).   749.0         0   \n",
              "962               New iPhone 6 16GB Free (MG472QL / A).   639.0         0   \n",
              "963               New iPhone 6 64GB Free (MG4F2QL / A).   749.0         0   \n",
              "...                                                 ...     ...       ...   \n",
              "9585            New 32GB Apple iPhone 7 Plus Free Black   779.0         0   \n",
              "9587     Leather case with box and official cover Apple   109.0         0   \n",
              "9714  Reconditioned skin sheath official Apple desig...    45.0         0   \n",
              "9794    Refurbished Apple iPhone 8 Plus 256GB Free Gold  1089.0         0   \n",
              "9929                Apple iPhone 8 Plus 64GB Space Gray   919.0         0   \n",
              "\n",
              "           type category  \n",
              "579         NaN           \n",
              "956         NaN           \n",
              "961         NaN           \n",
              "962         NaN           \n",
              "963         NaN           \n",
              "...         ...      ...  \n",
              "9585   85651716           \n",
              "9587   11865403           \n",
              "9714   11865403           \n",
              "9794  113281716           \n",
              "9929  113281716           \n",
              "\n",
              "[269 rows x 7 columns]"
            ],
            "text/html": [
              "\n",
              "  <div id=\"df-1f2c57fd-7dea-430e-a642-1aa418369cd4\">\n",
              "    <div class=\"colab-df-container\">\n",
              "      <div>\n",
              "<style scoped>\n",
              "    .dataframe tbody tr th:only-of-type {\n",
              "        vertical-align: middle;\n",
              "    }\n",
              "\n",
              "    .dataframe tbody tr th {\n",
              "        vertical-align: top;\n",
              "    }\n",
              "\n",
              "    .dataframe thead th {\n",
              "        text-align: right;\n",
              "    }\n",
              "</style>\n",
              "<table border=\"1\" class=\"dataframe\">\n",
              "  <thead>\n",
              "    <tr style=\"text-align: right;\">\n",
              "      <th></th>\n",
              "      <th>sku</th>\n",
              "      <th>name</th>\n",
              "      <th>desc</th>\n",
              "      <th>price</th>\n",
              "      <th>in_stock</th>\n",
              "      <th>type</th>\n",
              "      <th>category</th>\n",
              "    </tr>\n",
              "  </thead>\n",
              "  <tbody>\n",
              "    <tr>\n",
              "      <th>579</th>\n",
              "      <td>APP0675</td>\n",
              "      <td>Apple iPhone 5S 32GB Space Gray</td>\n",
              "      <td>New Free iPhone 5S 32GB (ME435Y / A).</td>\n",
              "      <td>559.0</td>\n",
              "      <td>0</td>\n",
              "      <td>NaN</td>\n",
              "      <td></td>\n",
              "    </tr>\n",
              "    <tr>\n",
              "      <th>956</th>\n",
              "      <td>APP0823</td>\n",
              "      <td>Apple iPhone 6 16GB Silver</td>\n",
              "      <td>New iPhone 6 16GB Free (MG482QL / A).</td>\n",
              "      <td>639.0</td>\n",
              "      <td>0</td>\n",
              "      <td>NaN</td>\n",
              "      <td></td>\n",
              "    </tr>\n",
              "    <tr>\n",
              "      <th>961</th>\n",
              "      <td>APP0829</td>\n",
              "      <td>Apple iPhone 6 Plus 16GB Silver</td>\n",
              "      <td>New iPhone 6 Plus 16G Free (MGA92QL / A).</td>\n",
              "      <td>749.0</td>\n",
              "      <td>0</td>\n",
              "      <td>NaN</td>\n",
              "      <td></td>\n",
              "    </tr>\n",
              "    <tr>\n",
              "      <th>962</th>\n",
              "      <td>APP0822</td>\n",
              "      <td>Apple iPhone 6 16GB Space Gray</td>\n",
              "      <td>New iPhone 6 16GB Free (MG472QL / A).</td>\n",
              "      <td>639.0</td>\n",
              "      <td>0</td>\n",
              "      <td>NaN</td>\n",
              "      <td></td>\n",
              "    </tr>\n",
              "    <tr>\n",
              "      <th>963</th>\n",
              "      <td>APP0825</td>\n",
              "      <td>Apple iPhone 6 64GB Space Gray</td>\n",
              "      <td>New iPhone 6 64GB Free (MG4F2QL / A).</td>\n",
              "      <td>749.0</td>\n",
              "      <td>0</td>\n",
              "      <td>NaN</td>\n",
              "      <td></td>\n",
              "    </tr>\n",
              "    <tr>\n",
              "      <th>...</th>\n",
              "      <td>...</td>\n",
              "      <td>...</td>\n",
              "      <td>...</td>\n",
              "      <td>...</td>\n",
              "      <td>...</td>\n",
              "      <td>...</td>\n",
              "      <td>...</td>\n",
              "    </tr>\n",
              "    <tr>\n",
              "      <th>9585</th>\n",
              "      <td>APP1634-A</td>\n",
              "      <td>Open - Apple iPhone 7 Plus 32GB Black</td>\n",
              "      <td>New 32GB Apple iPhone 7 Plus Free Black</td>\n",
              "      <td>779.0</td>\n",
              "      <td>0</td>\n",
              "      <td>85651716</td>\n",
              "      <td></td>\n",
              "    </tr>\n",
              "    <tr>\n",
              "      <th>9587</th>\n",
              "      <td>APP2540-A</td>\n",
              "      <td>Open - Apple iPhone Leather Folio X Baya</td>\n",
              "      <td>Leather case with box and official cover Apple</td>\n",
              "      <td>109.0</td>\n",
              "      <td>0</td>\n",
              "      <td>11865403</td>\n",
              "      <td></td>\n",
              "    </tr>\n",
              "    <tr>\n",
              "      <th>9714</th>\n",
              "      <td>APP2562-A</td>\n",
              "      <td>Open - Apple iPhone Leather Case Cover Red</td>\n",
              "      <td>Reconditioned skin sheath official Apple desig...</td>\n",
              "      <td>45.0</td>\n",
              "      <td>0</td>\n",
              "      <td>11865403</td>\n",
              "      <td></td>\n",
              "    </tr>\n",
              "    <tr>\n",
              "      <th>9794</th>\n",
              "      <td>APP2482-A</td>\n",
              "      <td>Open - Apple iPhone 8 Plus 256GB Gold</td>\n",
              "      <td>Refurbished Apple iPhone 8 Plus 256GB Free Gold</td>\n",
              "      <td>1089.0</td>\n",
              "      <td>0</td>\n",
              "      <td>113281716</td>\n",
              "      <td></td>\n",
              "    </tr>\n",
              "    <tr>\n",
              "      <th>9929</th>\n",
              "      <td>APP2477-A</td>\n",
              "      <td>Open - Apple iPhone 8 Plus 64GB Space Gray</td>\n",
              "      <td>Apple iPhone 8 Plus 64GB Space Gray</td>\n",
              "      <td>919.0</td>\n",
              "      <td>0</td>\n",
              "      <td>113281716</td>\n",
              "      <td></td>\n",
              "    </tr>\n",
              "  </tbody>\n",
              "</table>\n",
              "<p>269 rows × 7 columns</p>\n",
              "</div>\n",
              "      <button class=\"colab-df-convert\" onclick=\"convertToInteractive('df-1f2c57fd-7dea-430e-a642-1aa418369cd4')\"\n",
              "              title=\"Convert this dataframe to an interactive table.\"\n",
              "              style=\"display:none;\">\n",
              "        \n",
              "  <svg xmlns=\"http://www.w3.org/2000/svg\" height=\"24px\"viewBox=\"0 0 24 24\"\n",
              "       width=\"24px\">\n",
              "    <path d=\"M0 0h24v24H0V0z\" fill=\"none\"/>\n",
              "    <path d=\"M18.56 5.44l.94 2.06.94-2.06 2.06-.94-2.06-.94-.94-2.06-.94 2.06-2.06.94zm-11 1L8.5 8.5l.94-2.06 2.06-.94-2.06-.94L8.5 2.5l-.94 2.06-2.06.94zm10 10l.94 2.06.94-2.06 2.06-.94-2.06-.94-.94-2.06-.94 2.06-2.06.94z\"/><path d=\"M17.41 7.96l-1.37-1.37c-.4-.4-.92-.59-1.43-.59-.52 0-1.04.2-1.43.59L10.3 9.45l-7.72 7.72c-.78.78-.78 2.05 0 2.83L4 21.41c.39.39.9.59 1.41.59.51 0 1.02-.2 1.41-.59l7.78-7.78 2.81-2.81c.8-.78.8-2.07 0-2.86zM5.41 20L4 18.59l7.72-7.72 1.47 1.35L5.41 20z\"/>\n",
              "  </svg>\n",
              "      </button>\n",
              "      \n",
              "  <style>\n",
              "    .colab-df-container {\n",
              "      display:flex;\n",
              "      flex-wrap:wrap;\n",
              "      gap: 12px;\n",
              "    }\n",
              "\n",
              "    .colab-df-convert {\n",
              "      background-color: #E8F0FE;\n",
              "      border: none;\n",
              "      border-radius: 50%;\n",
              "      cursor: pointer;\n",
              "      display: none;\n",
              "      fill: #1967D2;\n",
              "      height: 32px;\n",
              "      padding: 0 0 0 0;\n",
              "      width: 32px;\n",
              "    }\n",
              "\n",
              "    .colab-df-convert:hover {\n",
              "      background-color: #E2EBFA;\n",
              "      box-shadow: 0px 1px 2px rgba(60, 64, 67, 0.3), 0px 1px 3px 1px rgba(60, 64, 67, 0.15);\n",
              "      fill: #174EA6;\n",
              "    }\n",
              "\n",
              "    [theme=dark] .colab-df-convert {\n",
              "      background-color: #3B4455;\n",
              "      fill: #D2E3FC;\n",
              "    }\n",
              "\n",
              "    [theme=dark] .colab-df-convert:hover {\n",
              "      background-color: #434B5C;\n",
              "      box-shadow: 0px 1px 3px 1px rgba(0, 0, 0, 0.15);\n",
              "      filter: drop-shadow(0px 1px 2px rgba(0, 0, 0, 0.3));\n",
              "      fill: #FFFFFF;\n",
              "    }\n",
              "  </style>\n",
              "\n",
              "      <script>\n",
              "        const buttonEl =\n",
              "          document.querySelector('#df-1f2c57fd-7dea-430e-a642-1aa418369cd4 button.colab-df-convert');\n",
              "        buttonEl.style.display =\n",
              "          google.colab.kernel.accessAllowed ? 'block' : 'none';\n",
              "\n",
              "        async function convertToInteractive(key) {\n",
              "          const element = document.querySelector('#df-1f2c57fd-7dea-430e-a642-1aa418369cd4');\n",
              "          const dataTable =\n",
              "            await google.colab.kernel.invokeFunction('convertToInteractive',\n",
              "                                                     [key], {});\n",
              "          if (!dataTable) return;\n",
              "\n",
              "          const docLinkHtml = 'Like what you see? Visit the ' +\n",
              "            '<a target=\"_blank\" href=https://colab.research.google.com/notebooks/data_table.ipynb>data table notebook</a>'\n",
              "            + ' to learn more about interactive tables.';\n",
              "          element.innerHTML = '';\n",
              "          dataTable['output_type'] = 'display_data';\n",
              "          await google.colab.output.renderOutput(dataTable, element);\n",
              "          const docLink = document.createElement('div');\n",
              "          docLink.innerHTML = docLinkHtml;\n",
              "          element.appendChild(docLink);\n",
              "        }\n",
              "      </script>\n",
              "    </div>\n",
              "  </div>\n",
              "  "
            ]
          },
          "metadata": {},
          "execution_count": 11
        }
      ]
    },
    {
      "cell_type": "markdown",
      "source": [
        "Now we can use the same trick as before to set the category - selecting the `category` column and setting it to our string of choice."
      ],
      "metadata": {
        "id": "CYyrvQ2qSLuZ"
      }
    },
    {
      "cell_type": "code",
      "source": [
        "product_category_df.loc[product_category_df.name.str.lower().str.contains(\"^.{0,7}apple iphone\"), \"category\"] = \"smartphone\""
      ],
      "metadata": {
        "id": "yTCbUyK0BMb4"
      },
      "execution_count": null,
      "outputs": []
    },
    {
      "cell_type": "code",
      "source": [
        "product_category_df.category.value_counts()"
      ],
      "metadata": {
        "id": "3TTuCTuW3YeL",
        "colab": {
          "base_uri": "https://localhost:8080/"
        },
        "outputId": "7388800e-e85f-4456-f556-4c744f5c9f58"
      },
      "execution_count": null,
      "outputs": [
        {
          "output_type": "execute_result",
          "data": {
            "text/plain": [
              "              9634\n",
              "smartphone     269\n",
              "keyboard        89\n",
              "Name: category, dtype: int64"
            ]
          },
          "metadata": {},
          "execution_count": 13
        }
      ]
    },
    {
      "cell_type": "markdown",
      "source": [
        "## 3.&nbsp; One product with multiple categories\n",
        "A product may fit into multiple categories. To help us create multiple categories for one product we will use the python addition assignment `+=`. The addition assignment is a shorthand way to add something (number, string, etc...) to a variable without changing the variable name. \n",
        "\n",
        "Let's have a look at a couple of examples."
      ],
      "metadata": {
        "id": "foWHV_NItf_Z"
      }
    },
    {
      "cell_type": "code",
      "source": [
        "a = 10\n",
        "a = a + 5\n",
        "a"
      ],
      "metadata": {
        "id": "GDAclDOIourZ",
        "colab": {
          "base_uri": "https://localhost:8080/"
        },
        "outputId": "a60a64b2-fd9c-40b9-b69d-e5c0f8aa294d"
      },
      "execution_count": null,
      "outputs": [
        {
          "output_type": "execute_result",
          "data": {
            "text/plain": [
              "15"
            ]
          },
          "metadata": {},
          "execution_count": 13
        }
      ]
    },
    {
      "cell_type": "code",
      "source": [
        "a = 10\n",
        "a += 5\n",
        "a"
      ],
      "metadata": {
        "id": "hwZIQWTKpEBP",
        "colab": {
          "base_uri": "https://localhost:8080/"
        },
        "outputId": "0dcdcad6-f3f7-40b3-a7a9-0d371f1c973b"
      },
      "execution_count": null,
      "outputs": [
        {
          "output_type": "execute_result",
          "data": {
            "text/plain": [
              "15"
            ]
          },
          "metadata": {},
          "execution_count": 14
        }
      ]
    },
    {
      "cell_type": "code",
      "source": [
        "b = \"Tyrannosaurus\"\n",
        "b = b + \" rex\"\n",
        "b"
      ],
      "metadata": {
        "id": "ftaB_cw8o_25",
        "colab": {
          "base_uri": "https://localhost:8080/",
          "height": 35
        },
        "outputId": "619f961d-2393-4f59-a5ea-c75c918c09a5"
      },
      "execution_count": null,
      "outputs": [
        {
          "output_type": "execute_result",
          "data": {
            "text/plain": [
              "'Tyrannosaurus rex'"
            ],
            "application/vnd.google.colaboratory.intrinsic+json": {
              "type": "string"
            }
          },
          "metadata": {},
          "execution_count": 15
        }
      ]
    },
    {
      "cell_type": "code",
      "source": [
        "b = \"Tyrannosaurus\"\n",
        "b += \" rex\"\n",
        "b"
      ],
      "metadata": {
        "id": "5Tv19vbdpZLO",
        "colab": {
          "base_uri": "https://localhost:8080/",
          "height": 35
        },
        "outputId": "8ef72ab7-b7b0-4057-d545-57ca622b7d9a"
      },
      "execution_count": null,
      "outputs": [
        {
          "output_type": "execute_result",
          "data": {
            "text/plain": [
              "'Tyrannosaurus rex'"
            ],
            "application/vnd.google.colaboratory.intrinsic+json": {
              "type": "string"
            }
          },
          "metadata": {},
          "execution_count": 16
        }
      ]
    },
    {
      "cell_type": "markdown",
      "source": [
        "Now let's look at how this can help us in our category creation.\n",
        "\n",
        "First, we'll reset all the values in the category column to an empty string `\"\"`."
      ],
      "metadata": {
        "id": "V3q9xza6q3MZ"
      }
    },
    {
      "cell_type": "code",
      "source": [
        "product_category_df[\"category\"] = \"\""
      ],
      "metadata": {
        "id": "zYQeeC6E86T_"
      },
      "execution_count": null,
      "outputs": []
    },
    {
      "cell_type": "markdown",
      "source": [
        "Now, let's create some categories and utilise the addition assignment."
      ],
      "metadata": {
        "id": "LYGZ67rnrLU8"
      }
    },
    {
      "cell_type": "code",
      "source": [
        "product_category_df.loc[product_category_df.desc.str.lower().str.contains(\"keyboard\"), \"category\"] += \", keyboard\"\n",
        "product_category_df.loc[product_category_df.name.str.lower().str.contains(\"^.{0,7}apple iphone\"), \"category\"] += \", smartphone\"\n",
        "product_category_df.loc[product_category_df.name.str.lower().str.contains(\"^.{0,7}apple ipod\"), \"category\"] += \", ipod\"\n",
        "product_category_df.loc[product_category_df.name.str.lower().str.contains(\"^.{0,7}apple ipad|tablet\"), \"category\"] += \", tablet\"\n",
        "product_category_df.loc[product_category_df.name.str.lower().str.contains(\"imac|mac mini|mac pro\"), \"category\"] += \", desktop\""
      ],
      "metadata": {
        "id": "ZOtQHJqsn3Qv"
      },
      "execution_count": null,
      "outputs": []
    },
    {
      "cell_type": "code",
      "source": [
        "product_category_df.category.value_counts()"
      ],
      "metadata": {
        "id": "EAS_yezTn4m_",
        "colab": {
          "base_uri": "https://localhost:8080/"
        },
        "outputId": "a6e38704-9d5c-47ea-bfb4-fe1a6543a909"
      },
      "execution_count": null,
      "outputs": [
        {
          "output_type": "execute_result",
          "data": {
            "text/plain": [
              "                       8362\n",
              ", desktop               923\n",
              ", tablet                307\n",
              ", smartphone            269\n",
              ", keyboard               83\n",
              ", ipod                   42\n",
              ", keyboard, tablet        4\n",
              ", keyboard, desktop       2\n",
              "Name: category, dtype: int64"
            ]
          },
          "metadata": {},
          "execution_count": 16
        }
      ]
    },
    {
      "cell_type": "markdown",
      "source": [
        "As you can see, some products now have 2 categories instead of just one. At the end you can use your skills with string to tidy up the opening comma and space in the categories column."
      ],
      "metadata": {
        "id": "tZktZ5udrTQn"
      }
    },
    {
      "cell_type": "markdown",
      "source": [
        "# Challenge. Your categories\n",
        "Now it's your turn. We'll reset the Dataframe so that no categories exist, and it's up to you to create the categories based on keywords in the name and description. Feel free to go wild and make as many categories as you like.\n",
        "* Remember you can also use regex to refine your searches.\n",
        "* Remember you can use the or operator `|` to search for multiple terms at once.\n",
        "* Remember to tidy up any untidy strings at the end."
      ],
      "metadata": {
        "id": "0c7iUc3J87_b"
      }
    },
    {
      "cell_type": "code",
      "source": [
        "product_category_df[\"category\"] = \"\""
      ],
      "metadata": {
        "id": "LPcqdik6sEwA"
      },
      "execution_count": null,
      "outputs": []
    },
    {
      "cell_type": "code",
      "source": [
        "product_category_df['type'] = product_category_df['type'].astype(str)"
      ],
      "metadata": {
        "id": "rtFZRPr21I1I"
      },
      "execution_count": null,
      "outputs": []
    },
    {
      "cell_type": "code",
      "source": [
        "# computer devices (mouse, keyboard, microphone, headphones, ..! )\n",
        "product_category_df.loc[product_category_df.desc.str.lower().str.contains(\"keyboard|dock|antennas|router|amplifier|mouse|ups|microphone|server|headphone|pen|mat|magsafe|cable|charger|cable|adaptor|speaker|airport|headset|usb|battery\"), \"category\"] = \"computer devices\"\n",
        "product_category_df.loc[product_category_df['type'].str.contains(\"12175397|13615399|1276|1515|1230|5,49E+11|1229|1334|1298|1325|5384|5398|5401|13955395|12585395|14365395|42945397\"), \"category\"] = \"computer devices\"\n",
        "\n",
        "\n",
        "# smartphone\n",
        "product_category_df.loc[product_category_df.name.str.lower().str.contains(\"^.{0,7}apple iphone|apple iphone\"), \"category\"] = \"smartphone\" \n",
        "product_category_df.loc[product_category_df['type'].str.contains(\"21571716|21561716|12031714|113271716\"), \"category\"] = \"smartphone\"\n",
        "\n",
        "# gadget (Tech & Smart devices)\n",
        "product_category_df.loc[product_category_df.name.str.lower().str.contains(\"^.{0,7}apple ipod|game|remote|robot|blood|weather|watch|pointer|drone|dj|philips|bluetooth\"), \"category\"] = \"gadget\"\n",
        "product_category_df.loc[product_category_df.desc.str.lower().str.contains(\"^.{0,7}apple|gadget|printer|controller|bike|sphygmomanometer|audio|video|GoPro|sensor|bluetooth|robot|fisheye|bicycle|analyzer|gps|lenses|eyes|studio|thermostat|blood|strips|music|scale|key|guitar|virtual reality|home|drone|tea|pointer|scooter|smart|intelligent|bracelet|cam|camera|recorder|security\"), \"category\"] = \"gadget\"\n",
        "product_category_df.loc[product_category_df['type'].str.contains(\"79201715|24895185|5399|11905404|4259|9094\"), \"category\"] = \"gadget\"\n",
        "\n",
        "# tablet\n",
        "product_category_df.loc[product_category_df.name.str.lower().str.contains(\"^.{0,7}apple ipad|tablet|apple ipad\"), \"category\"] = \"tablet\"\n",
        "product_category_df.loc[product_category_df.desc.str.lower().str.contains(\"tablet\"), \"category\"] = \"tablet\"\n",
        "product_category_df.loc[product_category_df['type'].str.contains(\"11865403|12635403|13835403|1405|113851714|12051714|51861714\"), \"category\"] = \"tablet\"\n",
        "\n",
        "# desktop\n",
        "product_category_df.loc[product_category_df.name.str.lower().str.contains(\"imac|mac|retina|macbook\"), \"category\"] = \"desktop\"\n",
        "product_category_df.loc[product_category_df.desc.str.lower().str.contains(\"desktop|computer\"), \"category\"] = \"desktop\"\n",
        "product_category_df.loc[product_category_df['type'].str.contains(\"5,74E+15|1282|1296|2158|5,44E+11|9,29E+11|1,02E+12\"), \"category\"] = \"desktop\"\n",
        "\n",
        "\n",
        "\n",
        "# accessories \n",
        "product_category_df.loc[product_category_df.name.str.lower().str.contains(\"bag|bandolier|support|cover\"), \"category\"] = \"accessories\"\n",
        "product_category_df.loc[product_category_df.desc.str.lower().str.contains(\"silicone|tripod|holder|backpack|cover|Neoprene sleeve|leather|spray|protector|strip|stand|strap|armband\"), \"category\"] = \"accessories\"\n",
        "product_category_df.loc[product_category_df['type'].str.contains(\"1216|8696|5720|5395|14035403|5404|5405|5403|13835403|1298|13555403|2449|12285400|12085400|2425|15435404|1280|10230|12355400\"), \"category\"] = \"accessories\"\n",
        "\n",
        "\n",
        "# services\n",
        "product_category_df.loc[product_category_df.name.str.lower().str.contains(\"repair|replacement|installation|color change\"), \"category\"] = \"services\"\n",
        "product_category_df.loc[product_category_df['type'].str.contains(\"1,44E+11|1231|1416\"), \"category\"] = \"services\"\n",
        "\n",
        "\n",
        "# storage \n",
        "product_category_df.loc[product_category_df.sku == \"PAC0602\", \"category\"] = \"storage\"\n",
        "product_category_df.loc[product_category_df.desc.str.lower().str.contains(\"memory|DS1815\"), \"category\"] = \"storage\"\n",
        "product_category_df.loc[product_category_df['type'].str.contains(\"1364|11935397|12995397|12655397|57445397|12215397|1433|1404|1424\"), \"category\"] = \"storage\"\n",
        "\n",
        "# Software \n",
        "product_category_df.loc[product_category_df.desc.str.lower().str.contains(\"software\"), \"category\"] = \"software\"\n",
        "\n",
        "# Repair Kit \n",
        "product_category_df.loc[product_category_df.desc.str.lower().str.contains(\"screwdriver|kit|glass|lock bottom|tool|tools\"), \"category\"] = \"repair kit\"\n",
        "product_category_df.loc[product_category_df.name.str.lower().str.contains(\"iFixit\"), \"category\"] = \"repair kit\"\n",
        "product_category_df.loc[product_category_df['type'].str.contains(\"21485407|21535407|14305406|12645406\"), \"category\"] = \"repair kit\"\n",
        "\n"
      ],
      "metadata": {
        "id": "qP_bxXaNe9a2"
      },
      "execution_count": null,
      "outputs": []
    },
    {
      "cell_type": "code",
      "source": [
        "product_category_df['category'].value_counts() "
      ],
      "metadata": {
        "colab": {
          "base_uri": "https://localhost:8080/"
        },
        "id": "1FfsRn9li17C",
        "outputId": "f975e6cd-4eea-4d6a-c994-8bc5d2f0bf1b"
      },
      "execution_count": null,
      "outputs": [
        {
          "output_type": "execute_result",
          "data": {
            "text/plain": [
              "accessories         3772\n",
              "storage             1496\n",
              "computer devices    1273\n",
              "gadget               977\n",
              "desktop              783\n",
              "repair kit           621\n",
              "                     531\n",
              "tablet               232\n",
              "services             173\n",
              "smartphone           100\n",
              "software              34\n",
              "Name: category, dtype: int64"
            ]
          },
          "metadata": {},
          "execution_count": 20
        }
      ]
    },
    {
      "cell_type": "code",
      "source": [
        "products = product_category_df.copy()\n",
        "\n"
      ],
      "metadata": {
        "id": "pnjp6TKK4Fl6"
      },
      "execution_count": null,
      "outputs": []
    },
    {
      "cell_type": "code",
      "source": [
        "products['sku'] = products['sku'].astype(str)\n",
        "products['short'] = products.sku.str.slice(0,3)\n"
      ],
      "metadata": {
        "id": "7_zpHOBOkQK0"
      },
      "execution_count": null,
      "outputs": []
    },
    {
      "cell_type": "code",
      "source": [
        "# brands_cl.csv\n",
        "url = 'https://drive.google.com/file/d/1XGyabaa4mAkjixMk3XPgx_14OoSse3rs/view?usp=sharing' \n",
        "path = 'https://drive.google.com/uc?export=download&id='+url.split('/')[-2]\n",
        "brands = pd.read_csv(path)"
      ],
      "metadata": {
        "id": "loJQgv-LiHEv"
      },
      "execution_count": null,
      "outputs": []
    },
    {
      "cell_type": "code",
      "source": [
        "# merging the brand & products tables\n",
        "\n",
        "products = products.merge(brands, how='inner') "
      ],
      "metadata": {
        "id": "NKLIn9hbiHNI"
      },
      "execution_count": null,
      "outputs": []
    },
    {
      "cell_type": "code",
      "source": [
        "# dropping the non necessary columns \n",
        "products = products.drop(columns=['in_stock', 'type', 'short', 'desc']) "
      ],
      "metadata": {
        "id": "998KpR-GiHUT"
      },
      "execution_count": null,
      "outputs": []
    },
    {
      "cell_type": "code",
      "source": [
        "# rename the column 'long': 'brand'\n",
        "products = products.rename(columns={'long': 'brand'}) "
      ],
      "metadata": {
        "id": "9M1hI34Jlhbs"
      },
      "execution_count": null,
      "outputs": []
    },
    {
      "cell_type": "code",
      "source": [
        "## Import the orderlines and orders tables (clean data)\n",
        "\n",
        "# orderlines_cl.csv\n",
        "url = 'https://drive.google.com/file/d/1lrSr_vVbXN7QSVSScf68DpWwvCMclK5m/view?usp=sharing' \n",
        "path = 'https://drive.google.com/uc?export=download&id='+url.split('/')[-2]\n",
        "orderlines = pd.read_csv(path)\n",
        "\n",
        "# orders_cl.csv\n",
        "url = 'https://drive.google.com/file/d/1cGjJ9o3vtwjK0Sohyr3YVTccXfnTPijT/view?usp=sharing' \n",
        "path = 'https://drive.google.com/uc?export=download&id='+url.split('/')[-2]\n",
        "orders = pd.read_csv(path)"
      ],
      "metadata": {
        "id": "Og94RezPoWpP"
      },
      "execution_count": null,
      "outputs": []
    },
    {
      "cell_type": "code",
      "source": [
        "orderlines = orderlines.rename(columns={'id_order':'order_id'})\n",
        "orders = orders.loc[orders['state'] == 'Completed'] # Interested only on the completed orders? \n",
        "orders_orderlines = pd.merge(orderlines, orders, how='inner', on='order_id') # Merge orders & orderlines "
      ],
      "metadata": {
        "id": "1brNJgLEo8bc"
      },
      "execution_count": null,
      "outputs": []
    },
    {
      "cell_type": "code",
      "source": [
        "orderlines = orders_orderlines"
      ],
      "metadata": {
        "id": "l5CvUX_XHukE"
      },
      "execution_count": null,
      "outputs": []
    },
    {
      "cell_type": "code",
      "source": [
        "# exclude orders with unknown products\n",
        "\n",
        "orderlines_unchecked = orderlines.loc[~orderlines['sku'].isin(products['sku'])]\n",
        "\n",
        "orderlines = orderlines.assign(check_condition = orderlines['sku'].isin(orderlines_unchecked['sku']))\n",
        "\n",
        "orderlines = orderlines.query(\"check_condition == False\")"
      ],
      "metadata": {
        "id": "pI7DDi_pJGJ1"
      },
      "execution_count": null,
      "outputs": []
    },
    {
      "cell_type": "code",
      "source": [
        "## Explore the revenue from different tables\n",
        "\n",
        "orderlines['unit_price_total'] = orderlines.unit_price * orderlines.product_quantity\n"
      ],
      "metadata": {
        "id": "T8DVd1g5pu2Y"
      },
      "execution_count": null,
      "outputs": []
    },
    {
      "cell_type": "code",
      "source": [
        "\n",
        "orderlines['difference'] = orderlines.total_paid - orderlines.unit_price_total"
      ],
      "metadata": {
        "id": "Hac5th7QJn2b"
      },
      "execution_count": null,
      "outputs": []
    },
    {
      "cell_type": "code",
      "source": [
        "# Calculate the offered discount\n",
        "\n",
        "products['discount'] = products.price - orderlines.unit_price\n"
      ],
      "metadata": {
        "id": "kAd9QOFFrZsm"
      },
      "execution_count": null,
      "outputs": []
    },
    {
      "cell_type": "code",
      "source": [
        "from google.colab import files\n",
        "\n",
        "products.to_csv('products_final.csv', index=False)\n",
        "files.download(\"products_final.csv\")"
      ],
      "metadata": {
        "colab": {
          "base_uri": "https://localhost:8080/",
          "height": 17
        },
        "id": "QyhY7tJMUvnl",
        "outputId": "9be05849-1e25-44d5-89a3-8bcb49bbc172"
      },
      "execution_count": null,
      "outputs": [
        {
          "output_type": "display_data",
          "data": {
            "text/plain": [
              "<IPython.core.display.Javascript object>"
            ],
            "application/javascript": [
              "\n",
              "    async function download(id, filename, size) {\n",
              "      if (!google.colab.kernel.accessAllowed) {\n",
              "        return;\n",
              "      }\n",
              "      const div = document.createElement('div');\n",
              "      const label = document.createElement('label');\n",
              "      label.textContent = `Downloading \"${filename}\": `;\n",
              "      div.appendChild(label);\n",
              "      const progress = document.createElement('progress');\n",
              "      progress.max = size;\n",
              "      div.appendChild(progress);\n",
              "      document.body.appendChild(div);\n",
              "\n",
              "      const buffers = [];\n",
              "      let downloaded = 0;\n",
              "\n",
              "      const channel = await google.colab.kernel.comms.open(id);\n",
              "      // Send a message to notify the kernel that we're ready.\n",
              "      channel.send({})\n",
              "\n",
              "      for await (const message of channel.messages) {\n",
              "        // Send a message to notify the kernel that we're ready.\n",
              "        channel.send({})\n",
              "        if (message.buffers) {\n",
              "          for (const buffer of message.buffers) {\n",
              "            buffers.push(buffer);\n",
              "            downloaded += buffer.byteLength;\n",
              "            progress.value = downloaded;\n",
              "          }\n",
              "        }\n",
              "      }\n",
              "      const blob = new Blob(buffers, {type: 'application/binary'});\n",
              "      const a = document.createElement('a');\n",
              "      a.href = window.URL.createObjectURL(blob);\n",
              "      a.download = filename;\n",
              "      div.appendChild(a);\n",
              "      a.click();\n",
              "      div.remove();\n",
              "    }\n",
              "  "
            ]
          },
          "metadata": {}
        },
        {
          "output_type": "display_data",
          "data": {
            "text/plain": [
              "<IPython.core.display.Javascript object>"
            ],
            "application/javascript": [
              "download(\"download_8ea51943-bdfc-402e-8abc-662c011d1b73\", \"products_final.csv\", 935691)"
            ]
          },
          "metadata": {}
        }
      ]
    },
    {
      "cell_type": "code",
      "source": [
        "products_orderlines_merged = pd.merge(orderlines, products, how='inner')"
      ],
      "metadata": {
        "id": "opa2W_rqrkr7"
      },
      "execution_count": null,
      "outputs": []
    },
    {
      "cell_type": "code",
      "source": [
        "products_orderlines_merged = products_orderlines_merged.drop(columns=['state'])"
      ],
      "metadata": {
        "id": "A9Kj3GrFrrUW"
      },
      "execution_count": null,
      "outputs": []
    },
    {
      "cell_type": "code",
      "source": [
        "# remove the discount outliers\n",
        "# Calculate the 25th & 75th percentiles\n",
        "Q1 = products['discount'].quantile(0.25)\n",
        "Q3 = products['discount'].quantile(0.75)\n",
        "# Calculate the interquartile range\n",
        "IQR = Q3-Q1\n",
        "# filter the DataFrame to include only \"non-outliers\"\n",
        "products = products.loc[(products['discount'] >= (Q1 - 1.5*IQR)) & (products['discount'] <= (Q3 + 1.5*IQR)), :]"
      ],
      "metadata": {
        "id": "23Lu3v_sr_JV"
      },
      "execution_count": null,
      "outputs": []
    },
    {
      "cell_type": "code",
      "source": [
        "# Dropping the non necessary columns\n",
        "\n",
        "products_orderlines_merged = products_orderlines_merged.drop(columns=['sku', 'difference']) "
      ],
      "metadata": {
        "id": "UZ6TsuMrsGZr"
      },
      "execution_count": null,
      "outputs": []
    },
    {
      "cell_type": "code",
      "source": [
        "eniac_final = products_orderlines_merged.copy()"
      ],
      "metadata": {
        "id": "R3B2s3EEt2v6"
      },
      "execution_count": null,
      "outputs": []
    },
    {
      "cell_type": "code",
      "source": [
        "# Save the data \n",
        "\n",
        "from google.colab import files\n",
        "\n",
        "eniac_final.to_csv('eniac_final.csv', index=False)\n",
        "files.download(\"eniac_final.csv\")"
      ],
      "metadata": {
        "colab": {
          "base_uri": "https://localhost:8080/",
          "height": 17
        },
        "id": "wrGcuVGSvG9T",
        "outputId": "81e4a67a-d243-472b-b3e3-bf419860da3a"
      },
      "execution_count": null,
      "outputs": [
        {
          "output_type": "display_data",
          "data": {
            "text/plain": [
              "<IPython.core.display.Javascript object>"
            ],
            "application/javascript": [
              "\n",
              "    async function download(id, filename, size) {\n",
              "      if (!google.colab.kernel.accessAllowed) {\n",
              "        return;\n",
              "      }\n",
              "      const div = document.createElement('div');\n",
              "      const label = document.createElement('label');\n",
              "      label.textContent = `Downloading \"${filename}\": `;\n",
              "      div.appendChild(label);\n",
              "      const progress = document.createElement('progress');\n",
              "      progress.max = size;\n",
              "      div.appendChild(progress);\n",
              "      document.body.appendChild(div);\n",
              "\n",
              "      const buffers = [];\n",
              "      let downloaded = 0;\n",
              "\n",
              "      const channel = await google.colab.kernel.comms.open(id);\n",
              "      // Send a message to notify the kernel that we're ready.\n",
              "      channel.send({})\n",
              "\n",
              "      for await (const message of channel.messages) {\n",
              "        // Send a message to notify the kernel that we're ready.\n",
              "        channel.send({})\n",
              "        if (message.buffers) {\n",
              "          for (const buffer of message.buffers) {\n",
              "            buffers.push(buffer);\n",
              "            downloaded += buffer.byteLength;\n",
              "            progress.value = downloaded;\n",
              "          }\n",
              "        }\n",
              "      }\n",
              "      const blob = new Blob(buffers, {type: 'application/binary'});\n",
              "      const a = document.createElement('a');\n",
              "      a.href = window.URL.createObjectURL(blob);\n",
              "      a.download = filename;\n",
              "      div.appendChild(a);\n",
              "      a.click();\n",
              "      div.remove();\n",
              "    }\n",
              "  "
            ]
          },
          "metadata": {}
        },
        {
          "output_type": "display_data",
          "data": {
            "text/plain": [
              "<IPython.core.display.Javascript object>"
            ],
            "application/javascript": [
              "download(\"download_32e9116c-a8c3-41c7-b399-389710fa7ee6\", \"eniac_final.csv\", 7205106)"
            ]
          },
          "metadata": {}
        }
      ]
    }
  ]
}